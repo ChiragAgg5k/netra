{
 "cells": [
  {
   "cell_type": "code",
   "execution_count": 50,
   "metadata": {},
   "outputs": [],
   "source": [
    "import pandas as pd\n",
    "from sklearn.model_selection import train_test_split\n",
    "import re"
   ]
  },
  {
   "cell_type": "code",
   "execution_count": 51,
   "metadata": {},
   "outputs": [
    {
     "name": "stdout",
     "output_type": "stream",
     "text": [
      "Loading data...\n"
     ]
    }
   ],
   "source": [
    "print(\"Loading data...\")\n",
    "\n",
    "train_df = pd.read_csv('../data/train.csv')\n",
    "test_df = pd.read_csv('../data/test.csv')\n",
    "\n",
    "train_df['source'] = 'train'\n",
    "test_df['source'] = 'test'\n",
    "\n",
    "combined_df = pd.concat([train_df, test_df], ignore_index=True)"
   ]
  },
  {
   "cell_type": "code",
   "execution_count": 52,
   "metadata": {},
   "outputs": [
    {
     "name": "stdout",
     "output_type": "stream",
     "text": [
      "Cleaning data...\n"
     ]
    }
   ],
   "source": [
    "def clean_text(text):\n",
    "    if pd.isna(text):\n",
    "        return ''\n",
    "    \n",
    "    text = str(text).lower()\n",
    "    \n",
    "    text = re.sub(r'[^\\w\\s]', ' ', text)\n",
    "    text = re.sub(r'\\d+', ' ', text)\n",
    "    \n",
    "    text = ' '.join(text.split())\n",
    "    \n",
    "    return text.strip()\n",
    "\n",
    "print(\"Cleaning data...\")\n",
    "\n",
    "cleaned_df = combined_df.copy()\n",
    "cleaned_df.drop_duplicates(inplace=True)\n",
    "\n",
    "cleaned_df['category'] = cleaned_df['category'].apply(clean_text)\n",
    "cleaned_df['sub_category'] = cleaned_df['sub_category'].apply(clean_text)\n",
    "cleaned_df['crimeaditionalinfo'] = cleaned_df['crimeaditionalinfo'].apply(clean_text)\n",
    "\n",
    "cleaned_df = cleaned_df.fillna('')"
   ]
  },
  {
   "cell_type": "code",
   "execution_count": 53,
   "metadata": {},
   "outputs": [
    {
     "name": "stdout",
     "output_type": "stream",
     "text": [
      "Removing rare classes...\n",
      "Number of removed categories: 1\n"
     ]
    }
   ],
   "source": [
    "print(\"Removing rare classes...\")\n",
    "\n",
    "min_instances=2\n",
    "\n",
    "category_counts = cleaned_df['category'].value_counts()\n",
    "valid_categories = category_counts[category_counts >= min_instances].index\n",
    "filtered_df = cleaned_df[cleaned_df['category'].isin(valid_categories)].copy()\n",
    "\n",
    "print(\"Number of removed categories:\", len(category_counts) - len(valid_categories))"
   ]
  },
  {
   "cell_type": "code",
   "execution_count": 54,
   "metadata": {},
   "outputs": [
    {
     "name": "stdout",
     "output_type": "stream",
     "text": [
      "Splitting data...\n"
     ]
    }
   ],
   "source": [
    "print(\"Splitting data...\")\n",
    "\n",
    "test_size=0.2 \n",
    "\n",
    "processed_train_df, processed_test_df = train_test_split(\n",
    "    filtered_df,\n",
    "    test_size=test_size,\n",
    "    random_state=42,\n",
    "    stratify=filtered_df['category']\n",
    ")"
   ]
  },
  {
   "cell_type": "code",
   "execution_count": 55,
   "metadata": {},
   "outputs": [
    {
     "name": "stdout",
     "output_type": "stream",
     "text": [
      "Saving processed data...\n"
     ]
    }
   ],
   "source": [
    "print(\"Saving processed data...\")\n",
    "processed_train_df.to_csv(f\"../data/processed_train.csv\", index=False)\n",
    "processed_test_df.to_csv(f\"../data/processed_test.csv\", index=False)"
   ]
  },
  {
   "cell_type": "code",
   "execution_count": 56,
   "metadata": {},
   "outputs": [
    {
     "name": "stdout",
     "output_type": "stream",
     "text": [
      "\n",
      "Data Processing Summary:\n",
      "Original number of samples: 124915\n",
      "Number of samples after cleaning: 114958\n",
      "Number of samples after filtering rare classes: 114957\n",
      "Number of unique categories: 15\n",
      "Training set size: 91965\n",
      "Test set size: 22992\n"
     ]
    }
   ],
   "source": [
    "print(\"\\nData Processing Summary:\")\n",
    "print(f\"Original number of samples: {len(combined_df)}\")\n",
    "print(f\"Number of samples after cleaning: {len(cleaned_df)}\")\n",
    "print(f\"Number of samples after filtering rare classes: {len(filtered_df)}\")\n",
    "print(f\"Number of unique categories: {len(filtered_df['category'].unique())}\")\n",
    "print(f\"Training set size: {len(processed_train_df)}\")\n",
    "print(f\"Test set size: {len(processed_test_df)}\")"
   ]
  }
 ],
 "metadata": {
  "kernelspec": {
   "display_name": ".venv",
   "language": "python",
   "name": "python3"
  },
  "language_info": {
   "codemirror_mode": {
    "name": "ipython",
    "version": 3
   },
   "file_extension": ".py",
   "mimetype": "text/x-python",
   "name": "python",
   "nbconvert_exporter": "python",
   "pygments_lexer": "ipython3",
   "version": "3.11.4"
  }
 },
 "nbformat": 4,
 "nbformat_minor": 2
}
