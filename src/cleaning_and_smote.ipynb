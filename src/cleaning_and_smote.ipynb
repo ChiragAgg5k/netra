{
 "cells": [
  {
   "cell_type": "code",
   "execution_count": 4,
   "metadata": {},
   "outputs": [],
   "source": [
    "import pandas as pd\n",
    "from sklearn.model_selection import train_test_split\n",
    "import re\n",
    "from sklearn.feature_extraction.text import TfidfVectorizer\n",
    "from collections import Counter\n",
    "from imblearn.over_sampling import SMOTE"
   ]
  },
  {
   "cell_type": "code",
   "execution_count": 5,
   "metadata": {},
   "outputs": [
    {
     "name": "stdout",
     "output_type": "stream",
     "text": [
      "Loading data...\n"
     ]
    }
   ],
   "source": [
    "print(\"Loading data...\")\n",
    "\n",
    "train_df = pd.read_csv('../data/train.csv')\n",
    "test_df = pd.read_csv('../data/test.csv')\n",
    "\n",
    "combined_df = pd.concat([train_df, test_df], ignore_index=True)"
   ]
  },
  {
   "cell_type": "code",
   "execution_count": 6,
   "metadata": {},
   "outputs": [
    {
     "name": "stdout",
     "output_type": "stream",
     "text": [
      "Removing rare classes...\n",
      "Number of removed categories: 1\n",
      "Number of removed sub categories: 3\n"
     ]
    }
   ],
   "source": [
    "print(\"Removing rare classes...\")\n",
    "\n",
    "min_instances=2\n",
    "\n",
    "category_counts = combined_df['category'].value_counts()\n",
    "sub_category_counts = combined_df['sub_category'].value_counts()\n",
    "\n",
    "valid_categories = category_counts[category_counts >= min_instances].index\n",
    "filtered_df = combined_df[combined_df['category'].isin(valid_categories)].copy()\n",
    "\n",
    "valid_sub_categories = sub_category_counts[sub_category_counts >= min_instances].index\n",
    "filtered_df = filtered_df[filtered_df['sub_category'].isin(valid_sub_categories)].copy()\n",
    "\n",
    "print(\"Number of removed categories:\", len(category_counts) - len(valid_categories))\n",
    "print(\"Number of removed sub categories:\", len(sub_category_counts) - len(valid_sub_categories))"
   ]
  },
  {
   "cell_type": "code",
   "execution_count": 7,
   "metadata": {},
   "outputs": [
    {
     "name": "stdout",
     "output_type": "stream",
     "text": [
      "Cleaning data...\n",
      "Instances removed due to duplicates: 16072\n"
     ]
    }
   ],
   "source": [
    "def clean_text(text):\n",
    "    if pd.isna(text):\n",
    "        return ''\n",
    "    \n",
    "    text = str(text).lower()\n",
    "    \n",
    "    text = re.sub(r'[^\\w\\s]', ' ', text)\n",
    "    text = re.sub(r'\\d+', ' ', text)\n",
    "    \n",
    "    text = ' '.join(text.split())\n",
    "    \n",
    "    return text.strip()\n",
    "\n",
    "print(\"Cleaning data...\")\n",
    "\n",
    "cleaned_df = filtered_df.copy()\n",
    "cleaned_df.drop_duplicates(inplace=True)\n",
    "\n",
    "cleaned_df['category'] = cleaned_df['category'].apply(clean_text)\n",
    "cleaned_df['sub_category'] = cleaned_df['sub_category'].apply(clean_text)\n",
    "cleaned_df['crimeaditionalinfo'] = cleaned_df['crimeaditionalinfo'].apply(clean_text)\n",
    "\n",
    "cleaned_df.dropna(inplace=True)\n",
    "\n",
    "print(\"Instances removed due to duplicates:\", len(combined_df) - len(cleaned_df))"
   ]
  }
 ],
 "metadata": {
  "kernelspec": {
   "display_name": ".venv",
   "language": "python",
   "name": "python3"
  },
  "language_info": {
   "codemirror_mode": {
    "name": "ipython",
    "version": 3
   },
   "file_extension": ".py",
   "mimetype": "text/x-python",
   "name": "python",
   "nbconvert_exporter": "python",
   "pygments_lexer": "ipython3",
   "version": "3.11.4"
  }
 },
 "nbformat": 4,
 "nbformat_minor": 2
}
